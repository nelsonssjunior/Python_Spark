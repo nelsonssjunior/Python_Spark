{
  "nbformat": 4,
  "nbformat_minor": 0,
  "metadata": {
    "colab": {
      "name": "TPD - Aula 2.1  -Leitura de arquivos simples",
      "provenance": []
    },
    "kernelspec": {
      "name": "python3",
      "display_name": "Python 3"
    },
    "language_info": {
      "name": "python"
    }
  },
  "cells": [
    {
      "cell_type": "code",
      "metadata": {
        "colab": {
          "base_uri": "https://localhost:8080/"
        },
        "id": "nHE3QchZJ1Rp",
        "outputId": "2833b6cd-4017-4d84-e860-5c1987f376a9"
      },
      "source": [
        "pip install pyspark"
      ],
      "execution_count": 2,
      "outputs": [
        {
          "output_type": "stream",
          "text": [
            "Collecting pyspark\n",
            "\u001b[?25l  Downloading https://files.pythonhosted.org/packages/89/db/e18cfd78e408de957821ec5ca56de1250645b05f8523d169803d8df35a64/pyspark-3.1.2.tar.gz (212.4MB)\n",
            "\u001b[K     |████████████████████████████████| 212.4MB 64kB/s \n",
            "\u001b[?25hCollecting py4j==0.10.9\n",
            "\u001b[?25l  Downloading https://files.pythonhosted.org/packages/9e/b6/6a4fb90cd235dc8e265a6a2067f2a2c99f0d91787f06aca4bcf7c23f3f80/py4j-0.10.9-py2.py3-none-any.whl (198kB)\n",
            "\u001b[K     |████████████████████████████████| 204kB 19.4MB/s \n",
            "\u001b[?25hBuilding wheels for collected packages: pyspark\n",
            "  Building wheel for pyspark (setup.py) ... \u001b[?25l\u001b[?25hdone\n",
            "  Created wheel for pyspark: filename=pyspark-3.1.2-py2.py3-none-any.whl size=212880768 sha256=5ae747b6c819554261e57bbffd23395a11be815c0f3fc04e9b62286e97c322c6\n",
            "  Stored in directory: /root/.cache/pip/wheels/40/1b/2c/30f43be2627857ab80062bef1527c0128f7b4070b6b2d02139\n",
            "Successfully built pyspark\n",
            "Installing collected packages: py4j, pyspark\n",
            "Successfully installed py4j-0.10.9 pyspark-3.1.2\n"
          ],
          "name": "stdout"
        }
      ]
    },
    {
      "cell_type": "code",
      "metadata": {
        "id": "nK7ZdFg1JOE9"
      },
      "source": [
        "# Criar a sessão a ser utilizada no Spark\n",
        "\n",
        "from pyspark.sql import SparkSession\n",
        "spark = SparkSession.builder.appName('abc').getOrCreate()"
      ],
      "execution_count": 3,
      "outputs": []
    },
    {
      "cell_type": "code",
      "metadata": {
        "id": "xvCqEkqDKB7g"
      },
      "source": [
        "#Lendo o arquivo de texto\n",
        "read_file = spark\\\n",
        ".read\\\n",
        ".format(\"txt\")\\\n",
        ".option(\"inferSchema\",\"true\")\\\n",
        ".text(\"arquivoTexto.txt\")"
      ],
      "execution_count": 4,
      "outputs": []
    },
    {
      "cell_type": "code",
      "metadata": {
        "colab": {
          "base_uri": "https://localhost:8080/"
        },
        "id": "Vpg8OUjqK1tg",
        "outputId": "03c6aa04-fb35-45d0-ef3c-6a56dcb30c1d"
      },
      "source": [
        "# Print do esquema do arquivo lido\n",
        "read_file.printSchema()"
      ],
      "execution_count": 5,
      "outputs": [
        {
          "output_type": "stream",
          "text": [
            "root\n",
            " |-- value: string (nullable = true)\n",
            "\n"
          ],
          "name": "stdout"
        }
      ]
    },
    {
      "cell_type": "code",
      "metadata": {
        "colab": {
          "base_uri": "https://localhost:8080/"
        },
        "id": "Q3V5QrfXK1wW",
        "outputId": "aeaa11ce-40e7-4d27-f612-0a49faf56912"
      },
      "source": [
        "# Verificando se é um streaming\n",
        "read_file.isStreaming"
      ],
      "execution_count": 6,
      "outputs": [
        {
          "output_type": "execute_result",
          "data": {
            "text/plain": [
              "False"
            ]
          },
          "metadata": {
            "tags": []
          },
          "execution_count": 6
        }
      ]
    },
    {
      "cell_type": "code",
      "metadata": {
        "id": "ihBdfeOIK1zW"
      },
      "source": [
        "# Definindo as bibliotecas\n",
        "from pyspark.sql.functions import explode #separa os elementos de uma linha em multiplas linhas\n",
        "from pyspark.sql.functions import split #divide as linhas"
      ],
      "execution_count": 7,
      "outputs": []
    },
    {
      "cell_type": "code",
      "metadata": {
        "id": "OTpAgx5BK14w"
      },
      "source": [
        "# Dividindo as linhas do arquivo\n",
        "words = read_file.select(\n",
        "    explode(\n",
        "        split(read_file.value,\" \")\n",
        "        ).alias(\"word\")\n",
        "  )\n",
        "\n",
        "#cria o novo dataframe a ser responsavel por contar a quantidade de palavras digitadas\n",
        "wordCounts = words.groupBy(\"word\").count()"
      ],
      "execution_count": 11,
      "outputs": []
    },
    {
      "cell_type": "code",
      "metadata": {
        "colab": {
          "base_uri": "https://localhost:8080/"
        },
        "id": "t1gTo0vBK17f",
        "outputId": "be45f3b6-c760-4212-8e1a-b815aa1de0a2"
      },
      "source": [
        "# Realizando o plot das palavras\n",
        "\n",
        "wordCounts.show()"
      ],
      "execution_count": 12,
      "outputs": [
        {
          "output_type": "stream",
          "text": [
            "+----------+-----+\n",
            "|      word|count|\n",
            "+----------+-----+\n",
            "|    minhas|    1|\n",
            "|      vida|    1|\n",
            "|esquecerei|    2|\n",
            "|   caminho|    6|\n",
            "|       tão|    1|\n",
            "|      meio|    6|\n",
            "|    pedra.|    2|\n",
            "|     pedra|    5|\n",
            "|        me|    2|\n",
            "|        de|    1|\n",
            "|     tinha|    7|\n",
            "|     Nunca|    2|\n",
            "|       que|    1|\n",
            "|        No|    1|\n",
            "|   retinas|    1|\n",
            "|        do|    6|\n",
            "|       uma|    7|\n",
            "|        no|    5|\n",
            "|fatigadas.|    1|\n",
            "|          |    1|\n",
            "+----------+-----+\n",
            "only showing top 20 rows\n",
            "\n"
          ],
          "name": "stdout"
        }
      ]
    },
    {
      "cell_type": "code",
      "metadata": {
        "id": "JvWvZygkNlED"
      },
      "source": [
        ""
      ],
      "execution_count": null,
      "outputs": []
    },
    {
      "cell_type": "code",
      "metadata": {
        "id": "P6qcPn7TNlNU"
      },
      "source": [
        ""
      ],
      "execution_count": null,
      "outputs": []
    },
    {
      "cell_type": "code",
      "metadata": {
        "id": "qlrXTzIfNlUi"
      },
      "source": [
        ""
      ],
      "execution_count": null,
      "outputs": []
    }
  ]
}